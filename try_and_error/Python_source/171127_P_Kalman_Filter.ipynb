{
 "cells": [
  {
   "cell_type": "markdown",
   "metadata": {},
   "source": [
    "# Kalman Filter"
   ]
  },
  {
   "cell_type": "markdown",
   "metadata": {},
   "source": [
    "Kalman Filter のパッケージとしては pykalman(https://pykalman.github.io) があるが，<br>\n",
    "Nan や観測データよりも細かいステップでの予測分布の更新など柔軟に対応できるプログラムを<br>\n",
    "作ると後々楽になるので，作りたいと思ったけど意味あるのかな．．．"
   ]
  },
  {
   "cell_type": "markdown",
   "metadata": {},
   "source": [
    "## Kalman Filter Algorithm"
   ]
  },
  {
   "cell_type": "markdown",
   "metadata": {},
   "source": [
    "1. give a initial mean $x_{0|0}$ and variance-covariance matrix $V_{0|0}$\n",
    "1. For $t=1$:$T$ do\n",
    "    1. $x_{t|t-1}=F_tx_{t-1|t-1}$<br>\n",
    "       $V_{t|t-1}=F_tV_{t-1|t-1}F_t^T+G_tQ_tG_t$\n",
    "    1. $K_t=V_{t|t-1}H_t^T(H_tV_{t|t-1}H_t^T+R_t)^{-1}$<br>\n",
    "       $x_{t|t}=x_{t|t-1}+K_t(y_t-H_tx_{t|t-1})$<br>\n",
    "       $V_{t|t]=V_{t|t-1}-K_tH_tV_{t|t-1}$"
   ]
  },
  {
   "cell_type": "markdown",
   "metadata": {},
   "source": [
    "# Let's make program"
   ]
  },
  {
   "cell_type": "code",
   "execution_count": 1,
   "metadata": {
    "collapsed": true
   },
   "outputs": [],
   "source": [
    "# install packages\n",
    "import numpy as np\n",
    "import pandas as pd\n",
    "import matplotlib.pyplot as plt"
   ]
  }
 ],
 "metadata": {
  "kernelspec": {
   "display_name": "Python 3",
   "language": "python",
   "name": "python3"
  },
  "language_info": {
   "codemirror_mode": {
    "name": "ipython",
    "version": 3
   },
   "file_extension": ".py",
   "mimetype": "text/x-python",
   "name": "python",
   "nbconvert_exporter": "python",
   "pygments_lexer": "ipython3",
   "version": "3.6.1"
  }
 },
 "nbformat": 4,
 "nbformat_minor": 2
}
