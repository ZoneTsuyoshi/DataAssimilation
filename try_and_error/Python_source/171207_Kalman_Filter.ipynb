{
 "cells": [
  {
   "cell_type": "markdown",
   "metadata": {},
   "source": [
    "# Kalman Filter"
   ]
  },
  {
   "cell_type": "markdown",
   "metadata": {},
   "source": [
    "Kalman Filter のパッケージとしては pykalman(https://pykalman.github.io) があるが，<br>\n",
    "Nan や観測データよりも細かいステップでの予測分布の更新など柔軟に対応できるプログラムを自分で作りたいというモチベーション"
   ]
  },
  {
   "cell_type": "markdown",
   "metadata": {},
   "source": [
    "Kalman Filter について知りたい人は，以下の文献・Qittaを参考にしてほしい．\n",
    "- 樋口知之編著，上野玄太・中野慎也・中村和幸・吉田亮著，データ同化入門ー次世代のシミュレーション技術ー，朝倉書店，2011．\n",
    "- Qitta : きみにもわかる，カルマンフィルター，https://qiita.com/deaikei/items/00a2716ecc3e944c139a"
   ]
  },
  {
   "cell_type": "markdown",
   "metadata": {},
   "source": [
    "## Linear Gauss State Space Model（線形・ガウス状態空間モデル）"
   ]
  },
  {
   "cell_type": "markdown",
   "metadata": {},
   "source": [
    "カルマンフィルタでは，線形・ガウス状態空間モデルを考える．これは，次の様に表せる．\n",
    "$$\n",
    "\\begin{align}\n",
    "&x_{t+1} = F_tx_t + b + N(0,Q_t)\\\\\n",
    "&y_t = H_ty_t + d + N(0,R_t)\n",
    "\\end{align}\n",
    "$$\n",
    "ここで，$x_t$は時刻$t$における状態変数，$y_t$は時刻$t$における観測変数，$F_t$はシステム行列，$Q_t$はシステムノイズの共分散行列，$H_t$は観測行列，$R_t$は観測ノイズの共分散行列，$b,d$は各モデルのオフセット（切片）を表す．"
   ]
  },
  {
   "cell_type": "markdown",
   "metadata": {},
   "source": [
    "## Kalman Filter Algorithm"
   ]
  },
  {
   "cell_type": "markdown",
   "metadata": {},
   "source": [
    "1. 初期状態のフィルタ分布の平均 $x_{0|0}$，共分散行列$V_{0|0}$を与える\n",
    "1. $t=1$から$T$まで次の予測ステップ・フィルタステップを繰り返す"
   ]
  },
  {
   "cell_type": "markdown",
   "metadata": {},
   "source": [
    "予測ステップ\n",
    "$$\n",
    "\\begin{gather}\n",
    "x_{t|t-1}=F_tx_{t-1|t-1}\\\\\n",
    "V_{t|t-1}=F_tV_{t-1|t-1}F_t^T+G_tQ_tG_t\n",
    "\\end{gather}\n",
    "$$"
   ]
  },
  {
   "cell_type": "markdown",
   "metadata": {},
   "source": [
    "フィルタステップ\n",
    "$$\n",
    "\\begin{gather}\n",
    "K_t = V_{t|t-1}H_t^T (H_tV_{t|t-1}H_t^T+R_t)^{-1}\\\\\n",
    "x_{t|t} = x_{t|t-1}+K_t(y_t-H_tx_{t|t-1})\\\\\n",
    "V_{t|t} = V_{t|t-1} - K_t H_t V_{t|t-1}\n",
    "\\end{gather}\n",
    "$$"
   ]
  },
  {
   "cell_type": "markdown",
   "metadata": {},
   "source": [
    "## RTS Smoothing Algorithm"
   ]
  },
  {
   "cell_type": "markdown",
   "metadata": {},
   "source": [
    "カルマンフィルタによって，$x_{T|T},V_{T|T}$が得られたら，$t=T-1,\\cdots,0$に対して，\n",
    "$$\n",
    "\\begin{align*}\n",
    "&A_t=V_{t|t}F_{t+1}^TV_{t+1|t}^{-1}\\\\\n",
    "&x_{t|T} = x_{t|t} + A_t(x_{t+1|T} - x_{t+1|t})\\\\\n",
    "&V_{t|T} = V_{t|t} + A_t(V_{t+1|T} - V_{t+1|t})A_t^T\n",
    "\\end{align*}\n",
    "$$\n",
    "によって固定区間平滑化分布の平均$x_{t|T}$と共分散行列$V_{t|T}$がわかる．"
   ]
  },
  {
   "cell_type": "markdown",
   "metadata": {},
   "source": [
    "# Let's make program"
   ]
  },
  {
   "cell_type": "code",
   "execution_count": 1,
   "metadata": {
    "collapsed": true
   },
   "outputs": [],
   "source": [
    "# install packages\n",
    "import numpy as np\n",
    "import pandas as pd\n",
    "import matplotlib.pyplot as plt"
   ]
  },
  {
   "cell_type": "code",
   "execution_count": 1,
   "metadata": {
    "collapsed": true
   },
   "outputs": [],
   "source": [
    "class Kalman_Filter(object) :\n",
    "    '''\n",
    "    <Input Variables>\n",
    "    observation [time, n_dim_obs] {float} : observation y （観測値）\n",
    "    initial_mean [time, n_dim_sys] {float} : initial state mean (初期フィルタ分布の平均)\n",
    "    initial_covariance [n_dim_sys, n_dim_sys] {float} : initial state covariance （初期フィルタ分布の共分散行列）\n",
    "    transition_matrix [n_dim_sys, n_dim_sys] {float} : transition matrix from x_{t-1} to x_t （システムモデルの変換行列）\n",
    "    observation_matrix [n_dim_sys, n_dim_obs] {float} : observation matrix （観測行列）\n",
    "    transition_covariance [n_dim_sys, n_dim_sys] {float} : covariance of system noise （システムノイズの共分散行列）\n",
    "    observation_covariance [n_dim_obs, n_dim_obs] {float} : covariance of observation noise （観測ノイズの共分散行列）\n",
    "    transition_offsets [n_dim_sys] {float} : offsets of system transition model （システムモデルの切片 ＝ バイアス = オフセット）\n",
    "    observation_offsets [n_dim_obs] {float} : offsets of observation model （観測モデルの切片 = バイアス = オフセット）\n",
    "    n_dim_sys {int} : dimension of system variable （システム変数の次元）\n",
    "    n_dim_obs {int} : dimension of observation variable （観測変数の次元）\n",
    "    \n",
    "    <Variables>\n",
    "    y [time, n_dim_obs] {float} : observation y （観測値）\n",
    "    F [n_dim_sys, n_dim_sys] {float} : transition matrix from x_{t-1} to x_t （システムモデルの変換行列）\n",
    "    Q [n_dim_sys, n_dim_sys] {float} : covariance of system noise （システムノイズの共分散行列）\n",
    "    b [n_dim_sys] {float} : offsets of system transition model （システムモデルの切片 ＝ バイアス = オフセット）\n",
    "    H [n_dim_sys, n_dim_obs] {float} : observation matrix （観測行列）\n",
    "    R [n_dim_obs, n_dim_obs] {float} : covariance of observation noise （観測ノイズの共分散行列）\n",
    "    d [n_dim_obs] {float} : offsets of observation model （観測モデルの切片 = バイアス = オフセット）\n",
    "    x_pred [time, n_dim_sys] {float} :  mean of prediction distribution （予測分布の平均）\n",
    "    V_pred [time, n_dim_sys, n_dim_sys] {float} : covariance of prediction distribution (予測分布の共分散行列)\n",
    "    x_filt [time, n_dim_sys] {float} : mean of filtering distribution (フィルタ分布の平均)\n",
    "    V_filt [time, n_dim_sys, n_dim_sys] {float} : covariance of filtering distribution (フィルタ分布の共分散行列)\n",
    "    x_RTS [time, n_dim_sys] {float} : mean of RTS smoothing distribution (固定区間平滑化分布の平均)\n",
    "    V_RTS [time, n_dim_sys, n_dim_sys] {float} : covariance of RTS smoothing distribution (固定区間平滑化の共分散行列)\n",
    "    '''\n",
    "    \n",
    "    def __init__(self, observation, initial_mean, initial_covariance, transition_matrix, observation_matrix, \n",
    "                 transition_covariance, observation_covariance, transition_offsets = None, \n",
    "                 observation_offsets = None, n_dim_sys = None, n_dim_obs = None) :\n",
    "        if n_dim_obs is None :\n",
    "            self.y = observation\n",
    "            self.n_dim_obs = len(self.y[0])\n",
    "        else :\n",
    "            self.n_dim_obs = n_dim_obs\n",
    "            if self.n_dim_obs != len(observation[0]) :\n",
    "                raise IndexError('You mistake dimension of observation.')\n",
    "            else :\n",
    "                self.y = observation\n",
    "        if n_dim_sys is None :\n",
    "            self.initial_mean = initial_mean\n",
    "            self.n_dim_sys = len(self.initial_mean)\n",
    "        else :\n",
    "            self.n_dim_sys = n_dim_sys\n",
    "            if self.n_dim_sys != len(initial_mean) :\n",
    "                raise IndexError('You mistake dimension of initial mean.')\n",
    "            else :\n",
    "                self.initial_mean = initial_mean\n",
    "        self.initial_covariance = initial_covariance\n",
    "        self.F = transition_matrix\n",
    "        self.Q = transition_covariance\n",
    "        if transition_offsets is None :\n",
    "            self.b = 0\n",
    "        else :\n",
    "            self.b = transition_offsets\n",
    "        self.H = observation_matrix\n",
    "        self.R = observation_covariance\n",
    "        if observation_offsets is None :\n",
    "            self.d = 0\n",
    "        else :\n",
    "            self.d = observation_offsets\n",
    "        \n",
    "        # filter function (フィルタ値を計算する関数)\n",
    "        def Filter(self) :\n",
    "            '''\n",
    "            T : length of data y （時系列の長さ）\n",
    "            K : Kalman gain (カルマンゲイン)\n",
    "            '''\n",
    "            T = len(self.y)\n",
    "            self.x_pred = np.zeros((T + 1, self.n_dim_sys))\n",
    "            self.V_pred = np.zeros((T + 1, self.n_dim_sys, self.n_dim_sys))\n",
    "            self.x_filt = np.zeros((T + 1, self.n_dim_sys))\n",
    "            self.V_filt = np.zeros((T + 1, self.n_dim_sys, self.n_dim_sys))\n",
    "            \n",
    "            # initial setting (初期分布)\n",
    "            self.x_pred[0] = self.initial_mean\n",
    "            self.V_pred[0] = self.initial_covariance\n",
    "            self.x_filt[0] = self.initial_mean\n",
    "            self.V_filt[0] = self.initial_covariance\n",
    "            \n",
    "            # GQG^T because G, Q, G is consistent\n",
    "            GQG = np.dot(self.G, np.dot(self.Q, self.G))\n",
    "            \n",
    "            for t in range(T) :\n",
    "                print(\"\\r filter calculating... t={}\".format(t + 1) + \"/\" + str(T), end=\"\")\n",
    "                \n",
    "                # prediction (予測分布)\n",
    "                self.x_pred[t + 1] = np.dot(self.F, self.x_filt[t]) + self.b\n",
    "                self.V_pred[t + 1] = np.dot(self.F, np.dot(self.V_filt[t], self.F.T)) + GQG\n",
    "                \n",
    "                # filtering (フィルタ分布)\n",
    "                K = np.dot(V_pred[t + 1], np.dot(self.H.T, np.linalg.inv(np.dot(self.H, np.dot(self.V_pred[t + 1], self.H.T)) + self.R)))\n",
    "                self.x_filt[t + 1] = np.x_pred[t + 1] + np.dot(K, self.y[t] - np.dot(self.H, self.x_pred[t + 1])) + self.d\n",
    "                self.V_filt[t + 1] = np.V_pred[t + 1] - np.dot(K, np.dot(self.H, self.V_pred[t + 1]))\n",
    "        \n",
    "        # get filtered value (フィルタ値を返す関数，Filter 関数後に値を得たい時)\n",
    "        def Get_Filtered_Value(self) :\n",
    "            return self.x_filt[1:]\n",
    "        \n",
    "        # RTS smooth function (RTSスムーシングを計算する関数，Filter 関数後に)\n",
    "        def RTS_Smooth(self) :\n",
    "            '''\n",
    "            T : length of data y (時系列の長さ)\n",
    "            A : fixed interval smoothed gain (固定区間平滑化ゲイン)\n",
    "            '''\n",
    "            T = len(self.y)\n",
    "            self.x_RTS = np.zeros((T + 1, self.n_dim_sys))\n",
    "            self.V_RTS = np.zeros((T + 1, self.n_dim_sys, self.n_dim_sys))\n",
    "            \n",
    "            self.x_RTS[T] = self.x_filt[T]\n",
    "            self.V_RTS[T] = self.V_filt[T]\n",
    "            \n",
    "            # t in [1, T] (tが1~Tの逆順であることに注意)\n",
    "            for t in range(T, 0, -1) :\n",
    "                print(\"\\r smooth calculating... t={}\".format(T - t + 1) + \"/\" + str(T), end=\"\")\n",
    "                \n",
    "                # fixed interval smoothing (固定区間平滑化分布)\n",
    "                A = np.dot(self.V_filt[t], np.dot(self.F.T, np.linalg.inv(self.V_pred[t])))\n",
    "                self.x_RTS[t - 1] = self.x_filt[t] + np.dot(A, self.x_RTS[t] - self.x_pred[t])\n",
    "                self.V_RTS[t - 1] = self.V_filt[t] + np.dot(A, np.dot(self.V_RTS[t] - self.V_pred[t], A.T))\n",
    "        \n",
    "        # get RTS smoothed value (RTS スムーシング値を返す関数，RTS_Smooth 後に)\n",
    "        def Get_RTS_Smoothed_Value(self) :\n",
    "            T = len(self.y)\n",
    "            return self.x_RTS[:T]"
   ]
  },
  {
   "cell_type": "markdown",
   "metadata": {
    "collapsed": true
   },
   "source": [
    "これに実際に値を入れるのは今度ということで"
   ]
  },
  {
   "cell_type": "code",
   "execution_count": null,
   "metadata": {
    "collapsed": true
   },
   "outputs": [],
   "source": []
  }
 ],
 "metadata": {
  "kernelspec": {
   "display_name": "Python 3",
   "language": "python",
   "name": "python3"
  },
  "language_info": {
   "codemirror_mode": {
    "name": "ipython",
    "version": 3
   },
   "file_extension": ".py",
   "mimetype": "text/x-python",
   "name": "python",
   "nbconvert_exporter": "python",
   "pygments_lexer": "ipython3",
   "version": "3.6.1"
  }
 },
 "nbformat": 4,
 "nbformat_minor": 2
}
