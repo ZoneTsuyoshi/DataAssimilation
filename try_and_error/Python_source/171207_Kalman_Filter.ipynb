{
 "cells": [
  {
   "cell_type": "markdown",
   "metadata": {},
   "source": [
    "# Kalman Filter"
   ]
  },
  {
   "cell_type": "markdown",
   "metadata": {},
   "source": [
    "Kalman Filter のパッケージとしては pykalman(https://pykalman.github.io) があるが，<br>\n",
    "Nan や観測データよりも細かいステップでの予測分布の更新など柔軟に対応できるプログラムを自分で作りたいというモチベーション"
   ]
  },
  {
   "cell_type": "markdown",
   "metadata": {},
   "source": [
    "## Linear Gauss State Space Model（線形・ガウス状態空間モデル）"
   ]
  },
  {
   "cell_type": "markdown",
   "metadata": {},
   "source": [
    "カルマンフィルタでは，線形・ガウス状態空間モデルを考える．これは，次の様に表せる．\n",
    "$$\n",
    "\\begin{align}\n",
    "&x_{t+1} = F_tx_t + b + N(0,Q_t)\\\\\n",
    "&y_t = H_ty_t + d + N(0,R_t)\n",
    "\\end{align}\n",
    "$$\n",
    "ここで，$x_t$は時刻$t$における状態変数，$y_t$は時刻$t$における観測変数，$F_t$はシステム行列，$Q_t$はシステムノイズの共分散行列，$H_t$は観測行列，$R_t$は観測ノイズの共分散行列，$b,d$は各モデルのオフセット（切片）を表す．"
   ]
  },
  {
   "cell_type": "markdown",
   "metadata": {},
   "source": [
    "## Kalman Filter Algorithm"
   ]
  },
  {
   "cell_type": "markdown",
   "metadata": {},
   "source": [
    "1. 初期状態のフィルタ分布の平均 $x_{0|0}$，共分散行列$V_{0|0}$を与える\n",
    "1. $t=1$から$T$まで次の予測ステップ・フィルタステップを繰り返す"
   ]
  },
  {
   "cell_type": "markdown",
   "metadata": {},
   "source": [
    "予測ステップ\n",
    "$$\n",
    "\\begin{gather}\n",
    "x_{t|t-1}=F_tx_{t-1|t-1}\\\\\n",
    "V_{t|t-1}=F_tV_{t-1|t-1}F_t^T+G_tQ_tG_t\n",
    "\\end{gather}\n",
    "$$"
   ]
  },
  {
   "cell_type": "markdown",
   "metadata": {},
   "source": [
    "フィルタステップ\n",
    "$$\n",
    "\\begin{gather}\n",
    "K_t = V_{t|t-1}H_t^T (H_tV_{t|t-1}H_t^T+R_t)^{-1}\\\\\n",
    "x_{t|t} = x_{t|t-1}+K_t(y_t-H_tx_{t|t-1})\\\\\n",
    "V_{t|t} = V_{t|t-1} - K_t H_t V_{t|t-1}\n",
    "\\end{gather}\n",
    "$$"
   ]
  },
  {
   "cell_type": "markdown",
   "metadata": {},
   "source": [
    "# Let's make program"
   ]
  },
  {
   "cell_type": "code",
   "execution_count": 1,
   "metadata": {
    "collapsed": true
   },
   "outputs": [],
   "source": [
    "# install packages\n",
    "import numpy as np\n",
    "import pandas as pd\n",
    "import matplotlib.pyplot as plt"
   ]
  },
  {
   "cell_type": "code",
   "execution_count": 8,
   "metadata": {},
   "outputs": [],
   "source": [
    "class Kalman_Filter(object) :\n",
    "    '''\n",
    "    <Input Variables>\n",
    "    observation [time, n_dim_obs] : observation y （観測値）\n",
    "    initial_mean [time, n_dim_sys] : initial state mean (初期フィルタ分布の平均)\n",
    "    initial_covariance [n_dim_sys, n_dim_sys] : initial state covariance （初期フィルタ分布の共分散行列）\n",
    "    transition_matrix [n_dim_sys, n_dim_sys] : transition matrix from x_{t-1} to x_t （システムモデルの変換行列）\n",
    "    transition_covariance [n_dim_sys, n_dim_sys] : covariance of system noise （システムノイズの共分散行列）\n",
    "    observation_matrix [n_dim_sys, n_dim_obs] : observation matrix （観測行列）\n",
    "    observation_covariance [n_dim_obs, n_dim_obs] : covariance of observation noise （観測ノイズの共分散行列）\n",
    "    transition_offsets [n_dim_sys] : offsets of system transition model （システムモデルの切片 ＝ バイアス = オフセット）\n",
    "    observation_offsets [n_dim_obs] : offsets of observation model （観測モデルの切片 = バイアス = オフセット）\n",
    "    n_dim_sys : dimension of system variable （システム変数の次元）\n",
    "    n_dim_obs : dimension of observation variable （観測変数の次元）\n",
    "    \n",
    "    <Variables>\n",
    "    y [time, n_dim_obs] : observation y （観測値）\n",
    "    F [n_dim_sys, n_dim_sys] : transition matrix from x_{t-1} to x_t （システムモデルの変換行列）\n",
    "    Q [n_dim_sys, n_dim_sys] : covariance of system noise （システムノイズの共分散行列）\n",
    "    b [n_dim_sys] : offsets of system transition model （システムモデルの切片 ＝ バイアス = オフセット）\n",
    "    H [n_dim_sys, n_dim_obs] : observation matrix （観測行列）\n",
    "    R [n_dim_obs, n_dim_obs] : covariance of observation noise （観測ノイズの共分散行列）\n",
    "    d [n_dim_obs] : offsets of observation model （観測モデルの切片 = バイアス = オフセット）\n",
    "    '''\n",
    "    \n",
    "    def __init__(self, observation, initial_mean, initial_covariance, transition_matrix, transition_covariance,  \n",
    "                observation_matrix, observation_covariance, transition_offsets = None, \n",
    "                 observation_offsets = None, n_dim_sys = None, n_dim_obs = None) :\n",
    "        if n_dim_obs is None :\n",
    "            self.y = observation\n",
    "            self.n_dim_obs = len(self.y[0])\n",
    "        else :\n",
    "            self.n_dim_obs = n_dim_obs\n",
    "            if self.n_dim_obs != len(observation[0]) :\n",
    "                raise IndexError('You mistake dimension of observation.')\n",
    "            else :\n",
    "                self.y = observation\n",
    "        if n_dim_sys is None :\n",
    "            self.initial_mean = initial_mean\n",
    "            self.n_dim_sys = len(self.initial_mean)\n",
    "        else :\n",
    "            self.n_dim_sys = n_dim_sys\n",
    "            if self.n_dim_sys != len(initial_mean) :\n",
    "                raise IndexError('You mistake dimension of initial mean.')\n",
    "            else :\n",
    "                self.initial_mean = initial_mean\n",
    "        self.initial_covariance = initial_covariance\n",
    "        self.F = transition_matrix\n",
    "        self.Q = transition_covariance\n",
    "        if transition_offsets is None :\n",
    "            self.b = 0\n",
    "        else :\n",
    "            self.b = transition_offsets\n",
    "        self.H = observation_matrix\n",
    "        self.R = observation_covariance\n",
    "        if observation_offsets is None :\n",
    "            self.d = 0\n",
    "        else :\n",
    "            self.d = observation_offsets"
   ]
  },
  {
   "cell_type": "code",
   "execution_count": null,
   "metadata": {
    "collapsed": true
   },
   "outputs": [],
   "source": []
  }
 ],
 "metadata": {
  "kernelspec": {
   "display_name": "Python 3",
   "language": "python",
   "name": "python3"
  },
  "language_info": {
   "codemirror_mode": {
    "name": "ipython",
    "version": 3
   },
   "file_extension": ".py",
   "mimetype": "text/x-python",
   "name": "python",
   "nbconvert_exporter": "python",
   "pygments_lexer": "ipython3",
   "version": "3.6.1"
  }
 },
 "nbformat": 4,
 "nbformat_minor": 2
}
