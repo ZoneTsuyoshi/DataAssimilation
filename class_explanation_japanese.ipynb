{
 "cells": [
  {
   "cell_type": "markdown",
   "metadata": {},
   "source": [
    "# Class Explanation (クラスに関する説明)"
   ]
  },
  {
   "cell_type": "markdown",
   "metadata": {},
   "source": [
    "## phase2"
   ]
  },
  {
   "cell_type": "markdown",
   "metadata": {},
   "source": [
    "### Kalman Filter (kalman.py)"
   ]
  },
  {
   "cell_type": "code",
   "execution_count": 1,
   "metadata": {},
   "outputs": [
    {
     "data": {
      "text/plain": [
       "\"Kalman_Filter(observation = None, initial_mean = None, initial_covariance = None, transition_matrices = None, observation_matrices = None, transition_covariance = None, observation_covariance = None, transition_noise_matrices = None, transition_offsets = None, observation_offsets = None, em_vars=['transition_covariance', 'observation_covariance', 'initial_mean', 'initial_covariance'], em_dics = {}, n_dim_sys = None, n_dim_obs = None)\""
      ]
     },
     "execution_count": 1,
     "metadata": {},
     "output_type": "execute_result"
    }
   ],
   "source": [
    "'''Kalman_Filter(observation = None, initial_mean = None, initial_covariance = None, transition_matrices = None, observation_matrices = None, transition_covariance = None, observation_covariance = None, transition_noise_matrices = None, transition_offsets = None, observation_offsets = None, em_vars=['transition_covariance', 'observation_covariance', 'initial_mean', 'initial_covariance'], em_dics = {}, n_dim_sys = None, n_dim_obs = None)'''"
   ]
  },
  {
   "cell_type": "markdown",
   "metadata": {},
   "source": [
    "状態方程式，観測方程式は以下で与えられている．ただし，オフセット$\\mathbf{b}_t,\\mathbf{d}_t$，状態ノイズ変換行列$G_t$は抜いても良い．\n",
    "\n",
    "$$\n",
    "\\begin{align*}\n",
    "&\\mathbf{x}_{t+1}=F_t\\mathbf{x}_t+\\mathbf{b}_t+G_t\\mathbf{v}_t,\\ \\mathbf{v}_t\\sim N(0,Q_t)\\\\\n",
    "&\\mathbf{y}_t=H_t\\mathbf{x}_t+\\mathbf{d}_t+\\mathbf{w}_t,\\ \\mathbf{w}_t\\sim N(0,R_t)\n",
    "\\end{align*}\n",
    "$$"
   ]
  },
  {
   "cell_type": "markdown",
   "metadata": {},
   "source": [
    "必要な変数\n",
    "\n",
    "|変数名  |対応文字  |デフォルト値 |説明\n",
    "|:--|:-:|:-:|:--|\n",
    "|observation  |$\\{\\mathbf{y}_t\\}$ |  |観測変量\n",
    "|initial_mean  |$E[\\mathbf{x}_0]$ |np.zeros |初期状態の平均\n",
    "|initial_covariance |$V[\\mathbf{x}_0]$ |np.eye |初期状態の共分散\n",
    "|transition_matrices |$\\{F_t\\}$ |np.eye |状態遷移行列\n",
    "|observation_matrices |$\\{H_t\\}$ |np.eye |観測行列\n",
    "|transition_covariance |$\\{Q_t\\}$ |np.eye |状態ノイズ共分散行列\n",
    "|observation_covariance |$\\{R_t\\}$ |np.eye |観測ノイズ共分散行列\n",
    "|transition_noise_matrices |$\\{G_t\\}$ |np.eye |状態ノイズ変換行列\n",
    "|transition_offsets |$\\mathbf{b}_t$ |np.zeros |状態遷移オフセット\n",
    "|observation_offsets |$\\mathbf{d}_t$ |np.zeros |観測オフセット\n",
    "|em_vars | |$Q,R,E[\\mathbf{x}_0],V[\\mathbf{x}_0]$ |EMアルゴリズムで最適化したい変数名を与えるリスト型変数\n",
    "|em_dics | |{} |EMアルゴリズムでパラメータを最適化する際に行列・ベクトルの特定の値を固定したい際に用いる辞書型変数\n",
    "|n_dim_sys | | |状態変数の次元\n",
    "|n_dim_obs| | |観測変数の次元"
   ]
  },
  {
   "cell_type": "markdown",
   "metadata": {},
   "source": [
    "格納されている関数\n",
    "\n",
    "|関数名 |説明\n",
    "|:--|:--\n",
    "|filter |一気先予測・フィルターを行う関数\n",
    "|RTS_smooth |RTS平滑化を行う関数\n",
    "|get_predicted_value(dim=None) |第dim次元の一気先予測値(背景値)を得る関数\n",
    "|get_filtered_value(dim=None) |第dim次元のフィルター値(解析値)を得る関数\n",
    "|get_RTS_smoothed_value(dim=None) |第dim次元の平滑化値を得る関数\n",
    "|em(n_iter=10) |EMアルゴリズムを用いてパラメータ(em_vars)をn_iter回イテレーションを回し最適化する関数"
   ]
  },
  {
   "cell_type": "markdown",
   "metadata": {},
   "source": [
    "em_vars について\n",
    "- EMアルゴリズムで最適化したい変数をリストで渡す．\n",
    "    - 例えば，em_vars = ['transition_covariance', 'initial_mean'] と与える\n",
    "- 最適化可能対象は次のとおりである．\n",
    "    - 'transition_matrices'\n",
    "    - 'observation_matrices'\n",
    "    - 'transition_covariance'\n",
    "    - 'observation_covariance'\n",
    "    - 'initial_mean'\n",
    "    - 'initial_covariance'\n",
    "    - 'transition_offsets'\n",
    "    - 'observation_offsets'"
   ]
  },
  {
   "cell_type": "markdown",
   "metadata": {},
   "source": [
    "em_dics について\n",
    "- EMアルゴリズム適用時に，行列内，ベクトル内の特定の要素を最適化したい時に用いる．\n",
    "    - 例えば，状態遷移行列の対角成分だけを固定したいような場合が考えられる．\n",
    "        - 状態遷移行列がpxp行列の場合，em_dics = {'transition_matrices' : [list(range(p)), list(range(p))]} とすれば良い．\n",
    "- 辞書の key として，固定したい対象の変数の名前，value として固定したい要素番号を入れて用いる．\n",
    "    - 2x2状態遷移行列の対角成分を固定したい場合\n",
    "        - em_dics = {'transition_matrices' : [[0, 1], [0, 1]]}\n",
    "        - [0,0], [1,1] ではなく，二つのリストを用いて要素の場所を指定していることに注意されたい．\n",
    "    - 2x2状態遷移行列の非対角成分[0,1]を固定したい場合\n",
    "        - em_dics = {'transition_matrices' : [[0], [1]]}\n",
    "    - 5次元状態オフセットベクトルの第0,3成分を固定したい場合\n",
    "        - em_dics = {'transition_offsets' : [0, 3]}\n",
    "        - ベクトルに関しては直観的に分かりやすい仕様．\n",
    "    - pxp状態遷移行列，kxk観測行列の対角成分を固定したい場合\n",
    "        - em_dics = {'transition_covariance' : [list(range(p)), list(range(p))],\n",
    "            'observation_covariance' : [list(range(k)), list(range(k))]}\n",
    "        - 複数のパラメータで固定する成分がある場合は，それぞれkeyを作れば良い\n",
    "- 使用例は，phase2/180313_Kalman_Filter_for_class_make.ipynb を参照にして欲しい．\n",
    "    - クラス作りながらメモ書きしたり実験したりする用のため，コードとしてはまとまってないですが．"
   ]
  },
  {
   "cell_type": "markdown",
   "metadata": {},
   "source": [
    "今後，追加したい機能\n",
    "\n",
    "|機能 |説明\n",
    "|:--|:--\n",
    "|状態方程式の拡張 |$x_{t+1}=F_tx_t+\\Gamma_tu_t+G_tv_t$に状態方程式を拡張したい．隠れ状態$x_t$に関する遷移を考えているが，既知変数$u_t$を含めた形への拡張．\n",
    "|EM Algorithmの時変性 |現状は時不変な$F,H,Q,R$の最適化を行なっているが，時変な$F_t,H_t,Q_t,R_t$への拡張．"
   ]
  },
  {
   "cell_type": "markdown",
   "metadata": {},
   "source": [
    "### Ensemble Kalman Filter (ensemble.py)"
   ]
  },
  {
   "cell_type": "code",
   "execution_count": 4,
   "metadata": {},
   "outputs": [
    {
     "data": {
      "text/plain": [
       "'Ensemble_Kalman_Filter(self, observation = None, transition_functions = None, observation_matrices = None, initial_mean = None, transition_noise = None, observation_covariance = None, n_particle = 100, n_dim_sys = None, n_dim_obs = None, seed = 71)'"
      ]
     },
     "execution_count": 4,
     "metadata": {},
     "output_type": "execute_result"
    }
   ],
   "source": [
    "'''Ensemble_Kalman_Filter(self, observation = None, transition_functions = None, observation_matrices = None, initial_mean = None, transition_noise = None, observation_covariance = None, n_particle = 100, n_dim_sys = None, n_dim_obs = None, seed = 71)'''"
   ]
  },
  {
   "cell_type": "markdown",
   "metadata": {},
   "source": [
    "状態方程式，観測方程式は次のように与えられている．\n",
    "\n",
    "$$\n",
    "\\begin{align*}\n",
    "&\\mathbf{x}_{t+1}=\\mathbf{f}_t(\\mathbf{x}_t)+\\mathbf{v}_t,\\ \\mathbf{v}_t\\sim p(\\mathbf{v}_t)\\\\\n",
    "&\\mathbf{y}_t=H_t\\mathbf{x}_t+\\mathbf{w}_t,\\ \\mathbf{w}_t\\sim N(0,R_t)\n",
    "\\end{align*}\n",
    "$$"
   ]
  },
  {
   "cell_type": "markdown",
   "metadata": {},
   "source": [
    "必要な変数\n",
    "\n",
    "|変数名  |対応文字  |デフォルト値 |説明\n",
    "|:--|:-:|:-:|:--|\n",
    "|observation  |$\\{\\mathbf{y}_t\\}$ |  |観測変量\n",
    "|initial_mean  |$E[\\mathbf{x}_0]$ |np.zeros |初期状態の平均\n",
    "|transition_functions |$\\{\\mathbf{f}_t\\}$ |lambda x,v:x+v |状態遷移関数\n",
    "|observation_matrices |$\\{H_t\\}$ |np.eye |観測行列\n",
    "|transition_noise |$\\{p(\\mathbf{v}_t)\\}$ |(np.multivariatenormal, [np.zeros,np.eye]) |パラメトリック状態ノイズ\n",
    "|observation_covariance |$\\{R_t\\}$ |np.eye |観測ノイズ共分散行列\n",
    "|n_particle | |100 |アンサンブルメンバー数\n",
    "|n_dim_sys | | |状態変数の次元\n",
    "|n_dim_obs| | |観測変数の次元\n",
    "|seed | |71 |乱数発生シード"
   ]
  },
  {
   "cell_type": "markdown",
   "metadata": {},
   "source": [
    "格納されている関数\n",
    "\n",
    "|関数名 |説明\n",
    "|:--|:--\n",
    "|filter |一気先予測・フィルターを行う関数\n",
    "|smooth(lag=10) |lag間隔で固定ラグ平滑化を行う関数\n",
    "|get_predicted_value(dim=None) |第dim次元の一気先予測値(背景値)を得る関数\n",
    "|get_filtered_value(dim=None) |第dim次元のフィルター値(解析値)を得る関数\n",
    "|get_smoothed_value(dim=None) |第dim次元の平滑化値を得る関数"
   ]
  },
  {
   "cell_type": "markdown",
   "metadata": {},
   "source": [
    "今後，編集・追加したいこと\n",
    "\n",
    "|内容 |説明\n",
    "|:--|:--\n",
    "|フィルター更新式の高速化 |Evensen の計算法でオーダーを下げる\n",
    "|平滑化の動作確認 |Smoothing の結果の妥当性の検証\n",
    "|使える乱数の拡張 |現状，numpy で使用可能な乱数を入れる構造になっているが，自己正規化サンプリングや逐次サンプリング等が使えるような拡張の検討"
   ]
  }
 ],
 "metadata": {
  "kernelspec": {
   "display_name": "Python 3",
   "language": "python",
   "name": "python3"
  },
  "language_info": {
   "codemirror_mode": {
    "name": "ipython",
    "version": 3
   },
   "file_extension": ".py",
   "mimetype": "text/x-python",
   "name": "python",
   "nbconvert_exporter": "python",
   "pygments_lexer": "ipython3",
   "version": "3.6.1"
  }
 },
 "nbformat": 4,
 "nbformat_minor": 2
}
