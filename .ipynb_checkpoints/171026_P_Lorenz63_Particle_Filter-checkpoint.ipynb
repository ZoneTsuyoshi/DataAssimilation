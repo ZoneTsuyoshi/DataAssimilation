{
 "cells": [
  {
   "cell_type": "markdown",
   "metadata": {},
   "source": [
    "# 粒子フィルタでローレンツ63モデルの双子実験"
   ]
  },
  {
   "cell_type": "markdown",
   "metadata": {},
   "source": [
    "Lorenz方程式とは，カオス的振る舞いをする非線形方程式の一つ．\n",
    "\\\\[\\frac{du}{dt}=-pu+pv,\\ \\frac{dv}{dt}=-uw+ru-v,\\ \\frac{dw}{dt}=uv-bw\\\\]\n",
    "で表される．Lorenzが1963に発表したモデルであることから，Lorenz'63 modelと呼ばれる．"
   ]
  },
  {
   "cell_type": "markdown",
   "metadata": {},
   "source": [
    "## 前進差分による更新関数"
   ]
  },
  {
   "cell_type": "code",
   "execution_count": 4,
   "metadata": {
    "collapsed": true
   },
   "outputs": [],
   "source": [
    "import math\n",
    "import numpy as np\n",
    "import numpy.random as rd\n",
    "import pandas as pd\n",
    "import matplotlib\n",
    "from matplotlib import font_manager\n",
    "import matplotlib.pyplot as plt\n",
    "import seaborn as sns"
   ]
  },
  {
   "cell_type": "code",
   "execution_count": 12,
   "metadata": {
    "collapsed": true
   },
   "outputs": [],
   "source": [
    "# update\n",
    "def Lorenz_update(state, param, dt) :\n",
    "    u = state[0]\n",
    "    v = state[1]\n",
    "    w = state[2]\n",
    "    p = param[0]\n",
    "    r = param[1]\n",
    "    b = param[2]\n",
    "    state[0] = u + dt * p * (- u + v)\n",
    "    state[1] = v + dt * (- u*w + r*u - v)\n",
    "    state[2] = u*v - b*w\n",
    "    return state\n",
    "\n",
    "# perfect simulation function\n",
    "def Lorenz_perfect(inital, param, time, dt) :\n",
    "    t = 0\n",
    "    state = initial\n",
    "    l = math.ceil(time / dt) + 1\n",
    "    u = np.zeros(l + 1)\n",
    "    v = np.zeros(l + 1)\n",
    "    w = np.zeros(l + 1)\n",
    "    u[0] = initial[0]\n",
    "    v[0] = initial[1]\n",
    "    w[0] = initial[2]\n",
    "    for i in range(l) :\n",
    "        state = Lorenz_update(state, param, dt)\n",
    "        u[i+1] = state[0]\n",
    "        v[i+1] = state[1]\n",
    "        w[i+1] = state[2]\n",
    "    return u, v, w\n",
    "\n",
    "# initial particle\n",
    "def Initial_particle(mu_0, initial_sd, n_particle) :\n",
    "    return rd.normal(mu_0, initial_sd, (len(mu_0), n_particle))"
   ]
  },
  {
   "cell_type": "markdown",
   "metadata": {},
   "source": [
    "## 粒子フィルタ"
   ]
  },
  {
   "cell_type": "code",
   "execution_count": 6,
   "metadata": {
    "collapsed": true
   },
   "outputs": [],
   "source": [
    "class ParticleFilter(object):\n",
    "    '''\n",
    "    y [dim, time]: observation data\n",
    "    n_dim : dimension of data\n",
    "    n_particle : number of particles which use PF\n",
    "    mu_0 [dim]: mu for initial normal distribution\n",
    "    sigma_0 : sigma for initial normal distribution\n",
    "    sigma_2 : variance of observation noise\n",
    "    alpha_2 : relatively variance = (variance of system noise) / (variance of observation noise)\n",
    "    initial_sd : sd for initial normal distribution\n",
    "    parm : Lorenz parameters p, r, b\n",
    "    dt : devision scale of time\n",
    "    \n",
    "    '''\n",
    "    def __init__(self, y, n_dim = 3, n_particle = 1000, sigma_2 = 0.01, alpha_2 = 0.01,\n",
    "                 mu_0 = (5.0, 5.0, 5.0), initial_sd = 0.1, parm = (10, 28, 8/3), dt = 0.01):\n",
    "        self.y = y\n",
    "        self.n_dim = n_dim\n",
    "        self.n_particle = n_particle\n",
    "        self.sigma_2 = sigma_2\n",
    "        self.alpha_2 = alpha_2\n",
    "        self.mu_0 = mu_0\n",
    "        self.initial_sd = initial_sd\n",
    "        self.parm = parm\n",
    "        self.dt = dt\n",
    "        self.log_likelihood = - np.inf\n",
    "    \n",
    "    # likelihood for normal distribution\n",
    "    def norm_likelihood(self, y, x, s2):\n",
    "        return (np.sqrt(2 * np.pi * s2))**(-1) * np.exp(-np.dot(y - x, y - x) / (2 * s2))\n",
    "\n",
    "    def F_inv(self, w_cumsum, idx, u):\n",
    "            if np.any(w_cumsum < u) == False:\n",
    "                return 0\n",
    "            k = np.max(idx[w_cumsum < u])\n",
    "            return k + 1\n",
    "        \n",
    "    def resampling(self, weights):\n",
    "        w_cumsum = np.cumsum(weights)\n",
    "        idx = np.asanyarray(range(self.n_particle)) # labelの生成\n",
    "        k_list = np.zeros(self.n_particle, dtype = np.int32) # サンプリングしたkのリスト格納場所\n",
    "        \n",
    "        # 一様分布から重みに応じてリサンプリングする添え字を取得\n",
    "        for i, u in enumerate(rd.uniform(0, 1, size = self.n_particle)):\n",
    "            k = self.F_inv(w_cumsum, idx, u)\n",
    "            k_list[i] = k\n",
    "        return k_list\n",
    "\n",
    "    def resampling2(self, weights):\n",
    "        \"\"\"\n",
    "        計算量の少ない層化サンプリング\n",
    "        \"\"\"\n",
    "        idx = np.asanyarray(range(self.n_particle))\n",
    "        u0 = rd.uniform(0, 1 / self.n_particle)\n",
    "        u = [1 / self.n_particle*i + u0 for i in range(self.n_particle)]\n",
    "        w_cumsum = np.cumsum(weights)\n",
    "        k = np.asanyarray([self.F_inv(w_cumsum, idx, val) for val in u])\n",
    "        return k\n",
    "    \n",
    "    def simulate(self, seed = 71):\n",
    "        '''\n",
    "        T : length of y\n",
    "        x [time, dim, particle]: prediction distribution particles\n",
    "        x_resampled [time, dim, particle]: filter distribution particles\n",
    "        initial_x [dim, particle]: initial distribution of x\n",
    "        w [time]: weight lambda of each particle\n",
    "        w_normed [time]: normed weitht beta of each particle\n",
    "        l [time]: log likelihood for each time\n",
    "        v : system noise particles\n",
    "        k : index number for resampling\n",
    "        '''\n",
    "        rd.seed(seed)\n",
    "\n",
    "        # 時系列データ数\n",
    "        T = len(self.y)\n",
    "        \n",
    "        # 潜在変数\n",
    "        x = np.zeros((T + 1, n_dim, self.n_particle))\n",
    "        x_resampled = np.zeros((T + 1, n_dim, self.n_particle))\n",
    "        \n",
    "        # 潜在変数の初期値\n",
    "        initial_x = initial_particle(mu_0, self.initial_sd, self.n_particle)\n",
    "        x_resampled[0] = initial_x\n",
    "        x[0] = initial_x\n",
    "\n",
    "        # 重み\n",
    "        w        = np.zeros((T, self.n_particle))\n",
    "        w_normed = np.zeros((T, self.n_particle))\n",
    "\n",
    "        l = np.zeros(T) # 時刻毎の尤度\n",
    "\n",
    "        for t in range(T):\n",
    "            print(\"\\r calculating... t={}\".format(t), end=\"\")\n",
    "            for i in range(self.n_particle):\n",
    "                # 1階差分トレンドを適用\n",
    "                v = rd.normal(0, np.sqrt(self.alpha_2 * self.sigma_2)) # System Noise\n",
    "                x[t + 1, :, i] = Lorenz_update(x_resampled[t, :, i], parm, dt) + v\n",
    "                w[t, i] = self.norm_likelihood(self.y[t], x[t+1, :, i], self.sigma_2)\n",
    "                # y[t]に対する各粒子の尤度\n",
    "            w_normed[t] = w[t] / np.sum(w[t]) # 規格化\n",
    "            l[t] = np.log(np.sum(w[t])) # 各時刻対数尤度\n",
    "\n",
    "            # Resampling\n",
    "            #k = self.resampling(w_normed[t]) # リサンプルで取得した粒子の添字\n",
    "            k = self.resampling2(w_normed[t]) # リサンプルで取得した粒子の添字（層化サンプリング）\n",
    "            x_resampled[t + 1] = x[t + 1, :, k]\n",
    "            \n",
    "        # 全体の対数尤度\n",
    "        self.log_likelihood = np.sum(l) - T * np.log(n_particle)\n",
    "        \n",
    "        self.x = x\n",
    "        self.x_resampled = x_resampled\n",
    "        self.w = w\n",
    "        self.w_normed = w_normed\n",
    "        self.l = l\n",
    "        \n",
    "    def get_filtered_value(self):\n",
    "        \"\"\"\n",
    "        尤度の重みで加重平均した値でフィルタリングされ値を算出\n",
    "        \"\"\"\n",
    "        for i in range(n_dim) :\n",
    "            filter_state[i] = np.diag(np.dot(self.w_normed, self.x[1:, i, :].T))\n",
    "        return filter_state\n",
    "        \n",
    "    def draw_graph(self):\n",
    "        # グラフ描画\n",
    "        T = len(self.y)\n",
    "        \n",
    "        plt.figure(figsize=(16,8))\n",
    "        plt.plot(range(T), self.y, label = \"data\")\n",
    "        plt.plot(self.get_filtered_value(), \"g\", label = \"PF\")\n",
    "        \n",
    "        for t in range(T):\n",
    "            plt.scatter(np.ones(self.n_particle)*t, self.x[t], color = \"r\", s = 2,\n",
    "                        alpha = 0.1)\n",
    "        \n",
    "        plt.legend(loc = 'upper right')\n",
    "        plt.xlabel('time')\n",
    "        plt.ylabel('value')\n",
    "        plt.title(\"sigma^2={0}, alpha^2={1}, log likelihood={2:.3f}\"\n",
    "                  .format(self.sigma_2, self.alpha_2, self.log_likelihood))"
   ]
  },
  {
   "cell_type": "markdown",
   "metadata": {},
   "source": [
    "## 双子実験"
   ]
  },
  {
   "cell_type": "markdown",
   "metadata": {},
   "source": [
    "双子実験：決定論的シミュレーションによって得られたデータを観測値とし，<br>\n",
    "どれぐらいデータ同化による予測が一致しているか確認する手法．<br>\n",
    "カオス系のLorenzモデルがよく用いられる．"
   ]
  },
  {
   "cell_type": "code",
   "execution_count": 10,
   "metadata": {
    "collapsed": true
   },
   "outputs": [],
   "source": [
    "# parameter\n",
    "a = -2\n",
    "b = -1\n",
    "n_dim = 3\n",
    "n_particle = 10**3 * 5\n",
    "sigma_2 = 2**a\n",
    "alpha_2 = 10**b\n",
    "initial = [5, 5, 5]\n",
    "mu_0 = [4.95, 5.05, 5.05]\n",
    "initial_sd = 0.1\n",
    "param = [10, 28, 8/3]\n",
    "dt = 0.01\n",
    "time = 15"
   ]
  },
  {
   "cell_type": "code",
   "execution_count": 13,
   "metadata": {},
   "outputs": [],
   "source": [
    "# perfect simulation\n",
    "perfect_sim = Lorenz_perfect(initial, param, time, dt)"
   ]
  },
  {
   "cell_type": "code",
   "execution_count": null,
   "metadata": {
    "collapsed": true
   },
   "outputs": [],
   "source": []
  }
 ],
 "metadata": {
  "kernelspec": {
   "display_name": "Python 3",
   "language": "python",
   "name": "python3"
  },
  "language_info": {
   "codemirror_mode": {
    "name": "ipython",
    "version": 3
   },
   "file_extension": ".py",
   "mimetype": "text/x-python",
   "name": "python",
   "nbconvert_exporter": "python",
   "pygments_lexer": "ipython3",
   "version": "3.6.1"
  }
 },
 "nbformat": 4,
 "nbformat_minor": 2
}
